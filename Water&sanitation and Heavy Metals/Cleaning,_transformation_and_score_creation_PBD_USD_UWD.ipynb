{
  "nbformat": 4,
  "nbformat_minor": 0,
  "metadata": {
    "colab": {
      "provenance": []
    },
    "kernelspec": {
      "name": "python3",
      "display_name": "Python 3"
    },
    "language_info": {
      "name": "python"
    }
  },
  "cells": [
    {
      "cell_type": "markdown",
      "source": [
        "**Cleaning and Transforming data sets for havy metals and water and sanitation**"
      ],
      "metadata": {
        "id": "q3JJVTj87O37"
      }
    },
    {
      "cell_type": "code",
      "source": [
        "import pandas as pd\n",
        "import numpy as np\n",
        "from google.colab import files\n",
        "\n",
        "def transform_indicator(input_file, output_file, prefix, best_value, worst_value):\n",
        "    df = pd.read_csv(input_file)\n",
        "\n",
        "    df.drop(columns=['code', 'country'], inplace=True)\n",
        "    df.set_index('iso', inplace=True)\n",
        "\n",
        "    european_indices = ['ALB', 'AND', 'AUT', 'BLR', 'BEL', 'BIH', 'BGR', 'HRV', 'CYP', 'CZE', 'DNK',\n",
        "                        'EST', 'FIN', 'FRA', 'DEU', 'GRC', 'HUN', 'SMR', 'ROU', 'PRT', 'POL', 'MKD',\n",
        "                        'NLD', 'MNE', 'MCO', 'MDA', 'MLT', 'LUX', 'LTU', 'LIE', 'LVA', 'XKX', 'ITA', 'IRL', 'ISL',\n",
        "                        'NOR', 'SRB', 'SVK', 'SVN', 'ESP', 'SWE', 'CHE', 'UKR', 'GBR']\n",
        "\n",
        "    df_filtered = df.loc[european_indices]\n",
        "\n",
        "    df_filtered.columns = df_filtered.columns.str.replace(f'{prefix}.raw.', '')\n",
        "\n",
        "    df_filtered_log = df_filtered.applymap(lambda x: np.log(float(x)) if pd.notna(x) else x)\n",
        "\n",
        "    best_log = round(np.log(best_value), 6)\n",
        "    worst_log = round(np.log(worst_value), 6)\n",
        "\n",
        "    def indicator_score(x):\n",
        "        if pd.isna(x):\n",
        "            return np.nan\n",
        "        elif x < best_log:\n",
        "            return 100\n",
        "        elif x > worst_log:\n",
        "            return 0\n",
        "        else:\n",
        "            return ((x - worst_log) / (best_log - worst_log)) * 100\n",
        "\n",
        "    df_transformed_index = df_filtered_log.applymap(indicator_score)\n",
        "\n",
        "    df_transformed_index.fillna('0', inplace=True)\n",
        "\n",
        "    df_transformed_index.to_csv(output_file)\n",
        "    print(f\"CSV file saved: {output_file}\")\n",
        "    files.download(output_file)\n",
        "\n",
        "transform_indicator(\"/content/USD_raw_na.csv\", \"/content/USD_transformed.csv\", \"USD\", 1.606842, 4442.251076)\n",
        "transform_indicator(\"/content/UWD_raw_na.csv\", \"/content/UWD_transformed.csv\", \"UWD\", 2.392264, 5940.937259)\n",
        "transform_indicator(\"/content/PBD_raw_na.csv\", \"/content/PBD_transformed.csv\", \"PBD\", 22.3544, 1372.9363)"
      ],
      "metadata": {
        "colab": {
          "base_uri": "https://localhost:8080/",
          "height": 173
        },
        "id": "8mN6nAMb6xtp",
        "outputId": "29a1c3d6-be85-4ecf-d8a4-b086dde94372"
      },
      "execution_count": null,
      "outputs": [
        {
          "output_type": "stream",
          "name": "stdout",
          "text": [
            "CSV file saved: /content/USD_transformed.csv\n"
          ]
        },
        {
          "output_type": "stream",
          "name": "stderr",
          "text": [
            "<ipython-input-2-ce9a8368d12c>:18: FutureWarning: The default value of regex will change from True to False in a future version.\n",
            "  df_filtered.columns = df_filtered.columns.str.replace(f'{prefix}.raw.', '')\n"
          ]
        },
        {
          "output_type": "display_data",
          "data": {
            "text/plain": [
              "<IPython.core.display.Javascript object>"
            ],
            "application/javascript": [
              "\n",
              "    async function download(id, filename, size) {\n",
              "      if (!google.colab.kernel.accessAllowed) {\n",
              "        return;\n",
              "      }\n",
              "      const div = document.createElement('div');\n",
              "      const label = document.createElement('label');\n",
              "      label.textContent = `Downloading \"${filename}\": `;\n",
              "      div.appendChild(label);\n",
              "      const progress = document.createElement('progress');\n",
              "      progress.max = size;\n",
              "      div.appendChild(progress);\n",
              "      document.body.appendChild(div);\n",
              "\n",
              "      const buffers = [];\n",
              "      let downloaded = 0;\n",
              "\n",
              "      const channel = await google.colab.kernel.comms.open(id);\n",
              "      // Send a message to notify the kernel that we're ready.\n",
              "      channel.send({})\n",
              "\n",
              "      for await (const message of channel.messages) {\n",
              "        // Send a message to notify the kernel that we're ready.\n",
              "        channel.send({})\n",
              "        if (message.buffers) {\n",
              "          for (const buffer of message.buffers) {\n",
              "            buffers.push(buffer);\n",
              "            downloaded += buffer.byteLength;\n",
              "            progress.value = downloaded;\n",
              "          }\n",
              "        }\n",
              "      }\n",
              "      const blob = new Blob(buffers, {type: 'application/binary'});\n",
              "      const a = document.createElement('a');\n",
              "      a.href = window.URL.createObjectURL(blob);\n",
              "      a.download = filename;\n",
              "      div.appendChild(a);\n",
              "      a.click();\n",
              "      div.remove();\n",
              "    }\n",
              "  "
            ]
          },
          "metadata": {}
        },
        {
          "output_type": "display_data",
          "data": {
            "text/plain": [
              "<IPython.core.display.Javascript object>"
            ],
            "application/javascript": [
              "download(\"download_ff1c1a29-9fa5-4558-a689-d53879b45085\", \"USD_transformed.csv\", 20646)"
            ]
          },
          "metadata": {}
        },
        {
          "output_type": "stream",
          "name": "stdout",
          "text": [
            "CSV file saved: /content/UWD_transformed.csv\n"
          ]
        },
        {
          "output_type": "stream",
          "name": "stderr",
          "text": [
            "<ipython-input-2-ce9a8368d12c>:18: FutureWarning: The default value of regex will change from True to False in a future version.\n",
            "  df_filtered.columns = df_filtered.columns.str.replace(f'{prefix}.raw.', '')\n"
          ]
        },
        {
          "output_type": "display_data",
          "data": {
            "text/plain": [
              "<IPython.core.display.Javascript object>"
            ],
            "application/javascript": [
              "\n",
              "    async function download(id, filename, size) {\n",
              "      if (!google.colab.kernel.accessAllowed) {\n",
              "        return;\n",
              "      }\n",
              "      const div = document.createElement('div');\n",
              "      const label = document.createElement('label');\n",
              "      label.textContent = `Downloading \"${filename}\": `;\n",
              "      div.appendChild(label);\n",
              "      const progress = document.createElement('progress');\n",
              "      progress.max = size;\n",
              "      div.appendChild(progress);\n",
              "      document.body.appendChild(div);\n",
              "\n",
              "      const buffers = [];\n",
              "      let downloaded = 0;\n",
              "\n",
              "      const channel = await google.colab.kernel.comms.open(id);\n",
              "      // Send a message to notify the kernel that we're ready.\n",
              "      channel.send({})\n",
              "\n",
              "      for await (const message of channel.messages) {\n",
              "        // Send a message to notify the kernel that we're ready.\n",
              "        channel.send({})\n",
              "        if (message.buffers) {\n",
              "          for (const buffer of message.buffers) {\n",
              "            buffers.push(buffer);\n",
              "            downloaded += buffer.byteLength;\n",
              "            progress.value = downloaded;\n",
              "          }\n",
              "        }\n",
              "      }\n",
              "      const blob = new Blob(buffers, {type: 'application/binary'});\n",
              "      const a = document.createElement('a');\n",
              "      a.href = window.URL.createObjectURL(blob);\n",
              "      a.download = filename;\n",
              "      div.appendChild(a);\n",
              "      a.click();\n",
              "      div.remove();\n",
              "    }\n",
              "  "
            ]
          },
          "metadata": {}
        },
        {
          "output_type": "display_data",
          "data": {
            "text/plain": [
              "<IPython.core.display.Javascript object>"
            ],
            "application/javascript": [
              "download(\"download_53e727bf-1ab9-40d3-86f1-a9683ebea361\", \"UWD_transformed.csv\", 20209)"
            ]
          },
          "metadata": {}
        },
        {
          "output_type": "stream",
          "name": "stdout",
          "text": [
            "CSV file saved: /content/PBD_transformed.csv\n"
          ]
        },
        {
          "output_type": "stream",
          "name": "stderr",
          "text": [
            "<ipython-input-2-ce9a8368d12c>:18: FutureWarning: The default value of regex will change from True to False in a future version.\n",
            "  df_filtered.columns = df_filtered.columns.str.replace(f'{prefix}.raw.', '')\n"
          ]
        },
        {
          "output_type": "display_data",
          "data": {
            "text/plain": [
              "<IPython.core.display.Javascript object>"
            ],
            "application/javascript": [
              "\n",
              "    async function download(id, filename, size) {\n",
              "      if (!google.colab.kernel.accessAllowed) {\n",
              "        return;\n",
              "      }\n",
              "      const div = document.createElement('div');\n",
              "      const label = document.createElement('label');\n",
              "      label.textContent = `Downloading \"${filename}\": `;\n",
              "      div.appendChild(label);\n",
              "      const progress = document.createElement('progress');\n",
              "      progress.max = size;\n",
              "      div.appendChild(progress);\n",
              "      document.body.appendChild(div);\n",
              "\n",
              "      const buffers = [];\n",
              "      let downloaded = 0;\n",
              "\n",
              "      const channel = await google.colab.kernel.comms.open(id);\n",
              "      // Send a message to notify the kernel that we're ready.\n",
              "      channel.send({})\n",
              "\n",
              "      for await (const message of channel.messages) {\n",
              "        // Send a message to notify the kernel that we're ready.\n",
              "        channel.send({})\n",
              "        if (message.buffers) {\n",
              "          for (const buffer of message.buffers) {\n",
              "            buffers.push(buffer);\n",
              "            downloaded += buffer.byteLength;\n",
              "            progress.value = downloaded;\n",
              "          }\n",
              "        }\n",
              "      }\n",
              "      const blob = new Blob(buffers, {type: 'application/binary'});\n",
              "      const a = document.createElement('a');\n",
              "      a.href = window.URL.createObjectURL(blob);\n",
              "      a.download = filename;\n",
              "      div.appendChild(a);\n",
              "      a.click();\n",
              "      div.remove();\n",
              "    }\n",
              "  "
            ]
          },
          "metadata": {}
        },
        {
          "output_type": "display_data",
          "data": {
            "text/plain": [
              "<IPython.core.display.Javascript object>"
            ],
            "application/javascript": [
              "download(\"download_6c1c4f02-9642-4c0b-b0b4-7d93d0df4013\", \"PBD_transformed.csv\", 22938)"
            ]
          },
          "metadata": {}
        }
      ]
    },
    {
      "cell_type": "code",
      "execution_count": null,
      "metadata": {
        "colab": {
          "base_uri": "https://localhost:8080/",
          "height": 121
        },
        "id": "YJs4PcaVEdpM",
        "outputId": "b959f615-0cb6-40e0-a26f-d0f5d55d1bf6"
      },
      "outputs": [
        {
          "output_type": "stream",
          "name": "stdout",
          "text": [
            "Index(['ALB', 'AND', 'AUT', 'BLR', 'BEL', 'BIH', 'BGR', 'HRV', 'CYP', 'CZE',\n",
            "       'DNK', 'EST', 'FIN', 'FRA', 'DEU', 'GRC', 'HUN', 'SMR', 'ROU', 'PRT',\n",
            "       'POL', 'MKD', 'NLD', 'MNE', 'MCO', 'MDA', 'MLT', 'LUX', 'LTU', 'LIE',\n",
            "       'LVA', 'XKX', 'ITA', 'IRL', 'ISL', 'NOR', 'SRB', 'SVK', 'SVN', 'ESP',\n",
            "       'SWE', 'CHE', 'UKR', 'GBR'],\n",
            "      dtype='object', name='iso')\n"
          ]
        },
        {
          "output_type": "display_data",
          "data": {
            "text/plain": [
              "<IPython.core.display.Javascript object>"
            ],
            "application/javascript": [
              "\n",
              "    async function download(id, filename, size) {\n",
              "      if (!google.colab.kernel.accessAllowed) {\n",
              "        return;\n",
              "      }\n",
              "      const div = document.createElement('div');\n",
              "      const label = document.createElement('label');\n",
              "      label.textContent = `Downloading \"${filename}\": `;\n",
              "      div.appendChild(label);\n",
              "      const progress = document.createElement('progress');\n",
              "      progress.max = size;\n",
              "      div.appendChild(progress);\n",
              "      document.body.appendChild(div);\n",
              "\n",
              "      const buffers = [];\n",
              "      let downloaded = 0;\n",
              "\n",
              "      const channel = await google.colab.kernel.comms.open(id);\n",
              "      // Send a message to notify the kernel that we're ready.\n",
              "      channel.send({})\n",
              "\n",
              "      for await (const message of channel.messages) {\n",
              "        // Send a message to notify the kernel that we're ready.\n",
              "        channel.send({})\n",
              "        if (message.buffers) {\n",
              "          for (const buffer of message.buffers) {\n",
              "            buffers.push(buffer);\n",
              "            downloaded += buffer.byteLength;\n",
              "            progress.value = downloaded;\n",
              "          }\n",
              "        }\n",
              "      }\n",
              "      const blob = new Blob(buffers, {type: 'application/binary'});\n",
              "      const a = document.createElement('a');\n",
              "      a.href = window.URL.createObjectURL(blob);\n",
              "      a.download = filename;\n",
              "      div.appendChild(a);\n",
              "      a.click();\n",
              "      div.remove();\n",
              "    }\n",
              "  "
            ]
          },
          "metadata": {}
        },
        {
          "output_type": "display_data",
          "data": {
            "text/plain": [
              "<IPython.core.display.Javascript object>"
            ],
            "application/javascript": [
              "download(\"download_bcaf8e7e-67e5-4a68-93d6-fc8aeaa440b2\", \"sanitation&water_score.csv\", 21522)"
            ]
          },
          "metadata": {}
        }
      ],
      "source": [
        "usd = pd.read_csv('/content/USD_transformed.csv', index_col=0)\n",
        "uwd = pd.read_csv('/content/UWD_transformed.csv', index_col=0)\n",
        "\n",
        "# Creating a new DataFrame with the same dimensions as USD and UWD\n",
        "result = pd.DataFrame(index=usd.index, columns=usd.columns)\n",
        "\n",
        "result = usd * 0.6 + uwd * 0.4\n",
        "\n",
        "result.fillna('0', inplace=True)\n",
        "\n",
        "print(result.index)\n",
        "\n",
        "result.to_csv('/content/sanitation&water_score.csv')\n",
        "\n",
        "from google.colab import files\n",
        "\n",
        "# Download the CSV file\n",
        "files.download('/content/sanitation&water_score.csv')"
      ]
    }
  ]
}